{
 "cells": [
  {
   "cell_type": "code",
   "execution_count": 1,
   "id": "e5c96540",
   "metadata": {},
   "outputs": [
    {
     "name": "stdout",
     "output_type": "stream",
     "text": [
      "hello world\n"
     ]
    }
   ],
   "source": [
    "print ('hello world')"
   ]
  },
  {
   "cell_type": "code",
   "execution_count": 2,
   "id": "f7a0223d",
   "metadata": {},
   "outputs": [
    {
     "name": "stdout",
     "output_type": "stream",
     "text": [
      "I owe the grocer $3.40\n"
     ]
    }
   ],
   "source": [
    "prices = {'apple': 0.40, 'banana': 0.50}\n",
    "my_purchase = {\n",
    "    'apple': 1,\n",
    "    'banana': 6}\n",
    "grocery_bill = sum(prices[fruit] * my_purchase[fruit]\n",
    "                   for fruit in my_purchase)\n",
    "print (f'I owe the grocer ${grocery_bill:.2f}')"
   ]
  },
  {
   "cell_type": "code",
   "execution_count": null,
   "id": "5a26dcfc",
   "metadata": {},
   "outputs": [],
   "source": []
  }
 ],
 "metadata": {
  "kernelspec": {
   "display_name": "myenv",
   "language": "python",
   "name": "python3"
  },
  "language_info": {
   "codemirror_mode": {
    "name": "ipython",
    "version": 3
   },
   "file_extension": ".py",
   "mimetype": "text/x-python",
   "name": "python",
   "nbconvert_exporter": "python",
   "pygments_lexer": "ipython3",
   "version": "3.10.18"
  }
 },
 "nbformat": 4,
 "nbformat_minor": 5
}
